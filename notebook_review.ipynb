{
 "cells": [
  {
   "cell_type": "code",
   "execution_count": 1,
   "metadata": {},
   "outputs": [],
   "source": [
    "import json\n",
    "from utils.utils import *\n",
    "from langchain_ollama import ChatOllama\n",
    "from pydantic import BaseModel"
   ]
  },
  {
   "cell_type": "code",
   "execution_count": 2,
   "metadata": {},
   "outputs": [],
   "source": [
    "with open(\"sample_notebooks/iris_classification.ipynb\", \"r\") as f:\n",
    "    notebook = json.load(f)"
   ]
  },
  {
   "cell_type": "code",
   "execution_count": 3,
   "metadata": {},
   "outputs": [],
   "source": [
    "with open(\"temp/code_from_notebook.txt\", \"w\") as f:\n",
    "    for cell in notebook['cells']:\n",
    "        for line in cell['source']:\n",
    "            f.write(line)\n",
    "        f.write(\"\\n\")"
   ]
  },
  {
   "cell_type": "code",
   "execution_count": 21,
   "metadata": {},
   "outputs": [],
   "source": [
    "# llm_name = \"llama3.2:1b\"\n",
    "llm_name = \"codellama\"\n",
    "embedding_model = \"nomic-embed-text\""
   ]
  },
  {
   "cell_type": "code",
   "execution_count": 5,
   "metadata": {},
   "outputs": [
    {
     "name": "stdout",
     "output_type": "stream",
     "text": [
      "Text file loaded.\n"
     ]
    }
   ],
   "source": [
    "data = ingest_text_file(\"temp/code_from_notebook.txt\")"
   ]
  },
  {
   "cell_type": "code",
   "execution_count": 6,
   "metadata": {},
   "outputs": [
    {
     "name": "stdout",
     "output_type": "stream",
     "text": [
      "import pandas as pd\n",
      "\n",
      "from sklearn.datasets import load_iris\n",
      "from sklearn.model_selection import train_test_split\n",
      "from sklearn.linear_model import LogisticRegression\n",
      "from sklearn.metrics import classification_report, confusion_matrix, ConfusionMatrixDisplay\n",
      "\n",
      "import matplotlib.pyplot as plt\n",
      "data = load_iris()\n",
      "X = data['data']\n",
      "y = data['target']\n",
      "labels = data['target_names']\n",
      "feature_names = data['feature_names']\n",
      "X_train, X_test, y_train, y_test = train_test_split(X, y, train_size = 0.7)\n",
      "clf = LogisticRegression()\n",
      "clf.fit(X_train, y_train)\n",
      "y_pred = clf.predict(X_test)\n",
      "print(classification_report(y_true=y_test, y_pred=y_pred, target_names=labels))\n",
      "cm = confusion_matrix(y_true=y_test, y_pred=y_pred)\n",
      "ConfusionMatrixDisplay(cm, display_labels=labels).plot()\n",
      "plt.show()\n",
      "\n"
     ]
    }
   ],
   "source": [
    "print(data)"
   ]
  },
  {
   "cell_type": "code",
   "execution_count": 7,
   "metadata": {},
   "outputs": [],
   "source": [
    "# Split the documents into chunks\n",
    "chunks = split_documents(data, chunk_size=1000, chunk_overlap=300)"
   ]
  },
  {
   "cell_type": "code",
   "execution_count": 8,
   "metadata": {},
   "outputs": [
    {
     "name": "stdout",
     "output_type": "stream",
     "text": [
      "Vector database created.\n"
     ]
    }
   ],
   "source": [
    "# Create the vector database\n",
    "vector_db = create_vector_db(chunks, embedding_model)"
   ]
  },
  {
   "cell_type": "code",
   "execution_count": 22,
   "metadata": {},
   "outputs": [],
   "source": [
    "# Initialize the language model\n",
    "class notebook_check_result(BaseModel):\n",
    "    code_for_confusion_matrix: bool\n",
    "    code_for_classification_matrix: bool\n",
    "\n",
    "llm = ChatOllama(model=llm_name, temperature=0, format=notebook_check_result.model_json_schema())"
   ]
  },
  {
   "cell_type": "code",
   "execution_count": 23,
   "metadata": {},
   "outputs": [
    {
     "name": "stdout",
     "output_type": "stream",
     "text": [
      "Retriever created.\n"
     ]
    }
   ],
   "source": [
    "# Create the retriever\n",
    "retriever = create_retriever(vector_db, llm)"
   ]
  },
  {
   "cell_type": "code",
   "execution_count": 24,
   "metadata": {},
   "outputs": [
    {
     "name": "stdout",
     "output_type": "stream",
     "text": [
      "Chain created successfully.\n"
     ]
    }
   ],
   "source": [
    "# Create the chain with preserved syntax\n",
    "chain = create_chain(retriever, llm)"
   ]
  },
  {
   "cell_type": "code",
   "execution_count": 26,
   "metadata": {},
   "outputs": [
    {
     "name": "stderr",
     "output_type": "stream",
     "text": [
      "Number of requested results 4 is greater than number of elements in index 1, updating n_results = 1\n"
     ]
    },
    {
     "name": "stdout",
     "output_type": "stream",
     "text": [
      "Response:\n",
      "{\n",
      "\"code_for_classification_matrix\": true,\n",
      "\"code_for_confusion_matrix\": true\n",
      "}\n"
     ]
    }
   ],
   "source": [
    "# Example query\n",
    "question = \"Does the given code contain code for confusion matrix and classification report?\"\n",
    "\n",
    "# Get the response\n",
    "res = chain.invoke(input=question)\n",
    "print(\"Response:\")\n",
    "print(res)"
   ]
  },
  {
   "cell_type": "code",
   "execution_count": null,
   "metadata": {},
   "outputs": [],
   "source": []
  }
 ],
 "metadata": {
  "kernelspec": {
   "display_name": "venv",
   "language": "python",
   "name": "python3"
  },
  "language_info": {
   "codemirror_mode": {
    "name": "ipython",
    "version": 3
   },
   "file_extension": ".py",
   "mimetype": "text/x-python",
   "name": "python",
   "nbconvert_exporter": "python",
   "pygments_lexer": "ipython3",
   "version": "3.12.0"
  }
 },
 "nbformat": 4,
 "nbformat_minor": 2
}
